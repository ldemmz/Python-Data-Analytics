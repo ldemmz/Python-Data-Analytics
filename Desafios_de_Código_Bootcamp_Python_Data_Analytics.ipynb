{
  "nbformat": 4,
  "nbformat_minor": 0,
  "metadata": {
    "colab": {
      "provenance": [],
      "authorship_tag": "ABX9TyOTR3EAuBzkPGQ11mkxOhuh"
    },
    "kernelspec": {
      "name": "python3",
      "display_name": "Python 3"
    },
    "language_info": {
      "name": "python"
    }
  },
  "cells": [
    {
      "cell_type": "markdown",
      "source": [
        "---\n",
        "## Desafios de Código - Python Data Analytics\n",
        "\n",
        "O conteúdo a seguir corresponde aos desafios de código que realizei durante o bootcamp Coding The Future Squadio - Python Data Analytics, na DIO.\n",
        "\n",
        "\n",
        "**Contatos:**\n",
        "\n",
        "*   [LinkedIn](https://www.linkedin.com/in/leonardor99/)\n",
        "*   [GitHub](https://github.com/ldemmz/)\n",
        "*   [E-mail](mailto:leonardor99@outlook.com)\n",
        "---\n"
      ],
      "metadata": {
        "id": "T44Pn-d6STSz"
      }
    },
    {
      "cell_type": "markdown",
      "source": [
        "## 1. A aventura do Explorador"
      ],
      "metadata": {
        "id": "VKacT_bNHC4V"
      }
    },
    {
      "cell_type": "markdown",
      "source": [
        "### Desafio\n"
      ],
      "metadata": {
        "id": "H_SFVDZZPbMH"
      }
    },
    {
      "cell_type": "markdown",
      "source": [
        "\n",
        "Você é um intrépido explorador em uma jornada por uma terra desconhecida repleta de desafios emocionantes. Ao se deparar com uma floresta misteriosa, você percebe que a única maneira de atravessá-la é desvendando seus caminhos por meio de um código em Python. Prepare-se para a \"Aventura do Explorador\"!\n",
        "\n",
        "#### Entrada\n",
        "Seu programa deve solicitar ao usuário a entrada de um número inteiro positivo, representando a quantidade de passos que o explorador deve dar na floresta.\n",
        "\n",
        "#### Saída\n",
        "O programa deve imprimir uma mensagem indicando o progresso do explorador na floresta. Utilize um laço de repetição para simular os passos do explorador. A cada passo, imprima uma mensagem informando a distância percorrida até o momento.\n",
        "\n",
        "#### Exemplos\n",
        "A tabela abaixo apresenta exemplos com alguns dados de entrada e suas respectivas saídas esperadas. Certifique-se de testar seu programa com esses exemplos e com outros casos possíveis.\n",
        "\n",
        "\n",
        "| Entrada | Saída                              |\n",
        "|---------|------------------------------------|\n",
        "|    2    |   Explorador: 1 passo              |\n",
        "|         |   Explorador: 2 passos             |\n",
        "|------------|---------------------------------|\n",
        "|    3    |   Explorador: 1 passo              |\n",
        "|         |   Explorador: 2 passos             |\n",
        "|         |   Explorador: 3 passos             |\n",
        "|------------|---------------------------------|\n",
        "|    0    |   Nenhum passo dado na floresta.   |\n",
        "\n",
        "\n"
      ],
      "metadata": {
        "id": "UWtbZHHyDuCn"
      }
    },
    {
      "cell_type": "markdown",
      "source": [
        "### Código"
      ],
      "metadata": {
        "id": "Z7lYbycQKXDx"
      }
    },
    {
      "cell_type": "code",
      "source": [
        "quantidade_passos = int(input())\n",
        "\n",
        "\n",
        "if quantidade_passos <= 0:\n",
        "  print (\"Nenhum passo dado na floresta.\")\n",
        "else:\n",
        "  for passo_dado in range(1, quantidade_passos + 1):\n",
        "    print(f\"Explorador: {passo_dado} {'passo' if passo_dado == 1 else 'passos'}\")\n"
      ],
      "metadata": {
        "id": "x9hP41KKFo8H"
      },
      "execution_count": null,
      "outputs": []
    },
    {
      "cell_type": "markdown",
      "source": [
        "\n",
        "## 2. Lista de itens\n",
        "\n"
      ],
      "metadata": {
        "id": "cDf6ShnBGeAd"
      }
    },
    {
      "cell_type": "markdown",
      "source": [
        "### Desafio"
      ],
      "metadata": {
        "id": "RnPQ14LmPrC3"
      }
    },
    {
      "cell_type": "markdown",
      "source": [
        "Em um jogo de RPG, os personagens geralmente possuem uma lista de itens que podem ser utilizados durante o jogo. Esses itens podem ser armas, armaduras, poções de cura, entre outros. É importante que o jogador tenha um controle desses itens para poder utilizá-los no momento adequado.\n",
        "\n",
        "Crie um programa que permita cadastrar uma lista de itens que o personagem possui. A lista deve conter o valor fixo de 3 itens e deve ser exibida na tela.\n",
        "\n",
        "#### Entrada\n",
        "O programa deve solicitar ao usuário o nome dos 3 itens que o personagem possui. Cada item deve ser cadastrado separadamente.\n",
        "\n",
        "#### Saída\n",
        "Após receber os itens cadastrados pelo usuário, o programa deve exibir na tela a lista de itens que o personagem possui. A saída deve ter o seguinte formato:\n",
        "\n",
        "Lista de itens:\n",
        "- [item1]\n",
        "- [item2]\n",
        "- [item3]\n",
        "\n",
        "#### Exemplos\n",
        "A tabela abaixo apresenta exemplos com alguns dados de entrada e suas respectivas saídas esperadas. Certifique-se de testar seu programa com esses exemplos e com outros casos possíveis.\n",
        "\n",
        "| Entrada    | Saída                       |\n",
        "|------------|-----------------------------|\n",
        "| Espada     | Lista de itens:             |\n",
        "| Escudo     | - Espada                    |\n",
        "| Poção      | - Escudo                    |\n",
        "|            | - Poção                     |\n",
        "|------------|-----------------------------|\n",
        "| Gema       | Lista de itens:             |\n",
        "| Flecha     | - Gema                      |\n",
        "| Capa       | - Flecha                    |\n",
        "|            | - Capa                      |\n",
        "|------------|-----------------------------|\n",
        "| Masterball | Lista de itens:             |\n",
        "| Potion     | - Masterball                |\n",
        "| Elixir     | - Potion                    |\n",
        "|            | - Elixir                    |\n",
        "\n"
      ],
      "metadata": {
        "id": "HqHU3wLgH85O"
      }
    },
    {
      "cell_type": "markdown",
      "source": [
        "### Código"
      ],
      "metadata": {
        "id": "MFAYmzY5PvGJ"
      }
    },
    {
      "cell_type": "code",
      "source": [
        "# Lista para armazenar os itens\n",
        "itens = []\n",
        "\n",
        "for i in range(3):\n",
        " nomeItem = input()\n",
        " itens.append(nomeItem)\n",
        "# Exibe a lista de itens\n",
        "print(\"Lista de itens:\")\n",
        "for item in itens:\n",
        "    print(f\"- {item}\")"
      ],
      "metadata": {
        "id": "cjIZVRT2ITQL"
      },
      "execution_count": null,
      "outputs": []
    },
    {
      "cell_type": "markdown",
      "source": [
        "## 3. Armazenamento de Dados é Vida!"
      ],
      "metadata": {
        "id": "e_XCt2SEI1RG"
      }
    },
    {
      "cell_type": "markdown",
      "source": [
        "### Desafio"
      ],
      "metadata": {
        "id": "bIViEIlhP1vd"
      }
    },
    {
      "cell_type": "markdown",
      "source": [
        "Com as máquinas pesadas agrupadas estrategicamente, graças ao seu algoritmo de cálculo energético, agora a mineração está muito mais eficiente! Com isso, os CodeMiners logo terão que aumentar a capacidade de armazenamento de dados em seus discos de Mithril. Atualmente, cada máquina tem uma capacidade em teraflops e todas terão um upgrade! Escreva um programa que calcule a nova capacidade total de todas as máquinas após um aumento percentual específico.\n",
        "\n",
        "#### Entrada\n",
        "Dois valores inteiros positivos, representando a capacidade atual total em teraflops e o aumento percentual, separados por espaço.\n",
        "\n",
        "#### Saída\n",
        "A nova capacidade total em teraflops.\n",
        "\n",
        "#### Exemplos\n",
        "A tabela abaixo apresenta exemplos com alguns dados de entrada e suas respectivas saídas esperadas. Certifique-se de testar seu programa com esses exemplos e com outros casos possíveis.\n",
        "\n",
        "| Entrada | Saída |\n",
        "|---------|-------|\n",
        "| 100 20  | 120   |\n",
        "| 50 10   | 55    |\n",
        "| 200 50  | 300   |\n"
      ],
      "metadata": {
        "id": "YDggb73SI64a"
      }
    },
    {
      "cell_type": "markdown",
      "source": [
        "### Código"
      ],
      "metadata": {
        "id": "UFjQ6KFDP4_P"
      }
    },
    {
      "cell_type": "code",
      "source": [
        "capacidade_atual, aumento_percentual = map(int, input().split())\n",
        "\n",
        "nova_capacidade = capacidade_atual + (capacidade_atual*aumento_percentual)/100\n",
        "\n",
        "print(int(nova_capacidade))"
      ],
      "metadata": {
        "id": "kwxL9sUTJJiS"
      },
      "execution_count": null,
      "outputs": []
    },
    {
      "cell_type": "markdown",
      "source": [
        "## 4. O Grande Depósito - Solucionando Problemas Bancários"
      ],
      "metadata": {
        "id": "MFvvKtIcJY5j"
      }
    },
    {
      "cell_type": "markdown",
      "source": [
        "### Desafio"
      ],
      "metadata": {
        "id": "sVfBuLpxQKAK"
      }
    },
    {
      "cell_type": "markdown",
      "source": [
        "Você foi contratado por um banco para desenvolver um programa que auxilie seus clientes a realizar depósitos em suas contas. O programa deve solicitar ao cliente o valor do depósito e verificar se o valor é válido. Se o valor for maior do que zero, o programa deve adicionar o valor ao saldo da conta. Caso contrário, o programa deve exibir uma mensagem de erro. O programa deve solicitar apenas uma vez o valor de depósito.\n",
        "\n",
        "#### Entrada\n",
        "O programa deve receber o valor de depósito digitado pelo cliente. Os valor pode ser decimal, representando valor em reais.\n",
        "\n",
        "#### Saída\n",
        "O programa deve exibir uma mensagem de sucesso quando um valor de depósito válido for informado e o saldo da conta for atualizado. Se o valor for \"0\", deverá imprimir uma mensagem encerrando o programa. Caso um valor inválido seja digitado, o programa deve exibir uma mensagem de erro solicitando um novo valor.\n",
        "\n",
        "#### Exemplos\n",
        "A tabela abaixo apresenta exemplos com alguns dados de entrada e suas respectivas saídas esperadas. Certifique-se de testar seu programa com esses exemplos e com outros casos possíveis.\n",
        "\n",
        "| Entrada | Saída                                   |\n",
        "|---------|-----------------------------------------|\n",
        "| 500.50  | Deposito realizado com sucesso!        |\n",
        "|         | Saldo atual: R$ 500.50                 |\n",
        "| -100    | Valor invalido! Digite um valor maior que zero. |\n",
        "| 0       | Encerrando o programa...               |\n"
      ],
      "metadata": {
        "id": "3zn3ZmZQJcal"
      }
    },
    {
      "cell_type": "markdown",
      "source": [
        "### Código"
      ],
      "metadata": {
        "id": "cd7fhTE9QQFM"
      }
    },
    {
      "cell_type": "code",
      "source": [
        "valor_conta = 0;\n",
        "\n",
        "while True:\n",
        "  try:\n",
        "    valor = float(input())\n",
        "    if valor > 0:\n",
        "      valor_conta += valor\n",
        "      print(f\"Deposito realizado com sucesso!\\nSaldo atual: R$ {valor_conta:.2f}\")\n",
        "    elif valor == 0:\n",
        "      print(\"Encerrando o programa...\")\n",
        "      break\n",
        "\n",
        "    else:\n",
        "      print(\"Valor invalido! Digite um valor maior que zero.\")\n",
        "\n",
        "  except EOFError:\n",
        "    break"
      ],
      "metadata": {
        "id": "7A6nONQzJlVk"
      },
      "execution_count": null,
      "outputs": []
    },
    {
      "cell_type": "markdown",
      "source": [
        "## 5. Estrutura de Dados: Organizando Os Seus Ativos"
      ],
      "metadata": {
        "id": "_eEkBzcFJzyz"
      }
    },
    {
      "cell_type": "markdown",
      "source": [
        "### Desafio"
      ],
      "metadata": {
        "id": "X9oD0wRNQdCs"
      }
    },
    {
      "cell_type": "markdown",
      "source": [
        "Após uma análise cuidadosa realizada pela equipe de desenvolvimento de uma empresa bancaria, foi identificado a necessidade de uma nova funcionalidade para otimizar os processos e melhorias da experiência dos usuários. Agora, sua tarefa é implementar uma solução que organize em ordem alfabética uma lista de ativos que será informada pelos usuários. Os ativos são representados por strings que representam seus tipos, como por exemplo: Reservas de liquidez, Ativos intangíveis e dentre outros.\n",
        "\n",
        "#### Entrada\n",
        "A primeira entrada consiste em um número inteiro que representa a quantidade de ativos que o usuário possui. Em seguida, o usuário deverá informar, em linhas separadas, os tipos (strings) dos respectivos ativos.\n",
        "\n",
        "#### Saída\n",
        "Seu programa deve exibir a lista de Ativos organizada em ordem alfabética. Cada ativo deve ser apresentado em uma linha separada.\n",
        "\n",
        "#### Exemplos\n",
        "A tabela abaixo apresenta exemplos com alguns dados de entrada e suas respectivas saídas esperadas. Certifique-se de testar seu programa com esses exemplos e com outros casos possíveis.\n",
        "\n",
        "| Entrada | Saída                                       |\n",
        "|---------|---------------------------------------------|\n",
        "| 3       | Deposito                                    |\n",
        "|         | Financiamento de Imovel                     |\n",
        "|         | Reservas Bancarias                          |\n",
        "|         |                                             |\n",
        "| 3       | Carteiras de credito                        |\n",
        "|         | Derivativos financeiros                      |\n",
        "|         | Investimentos em titulos                     |\n",
        "|         |                                             |\n",
        "| 3       | Ativos intangiveis                          |\n",
        "|         | Fundos de investimento                      |\n",
        "|         | Reservas de liquidez                        |\n"
      ],
      "metadata": {
        "id": "kQSrHFRiKL6x"
      }
    },
    {
      "cell_type": "markdown",
      "source": [
        "### Código"
      ],
      "metadata": {
        "id": "fC588yw0Qe7V"
      }
    },
    {
      "cell_type": "code",
      "source": [
        "ativos = []\n",
        "# Entrada da quantidade de ativos\n",
        "quantidadeAtivos = int(input())\n",
        "# Entrada dos códigos dos ativos\n",
        "for _ in range(quantidadeAtivos):\n",
        "    codigoAtivo = input()\n",
        "    ativos.append(codigoAtivo)\n",
        "# Ordenando os ativos em ordem alfabética.\n",
        "ativos_reordenados = sorted(ativos)\n",
        "# Imprimindo a lista de ativos de maneira ordenada, conforme a tabela de exemplos.\n",
        "\n",
        "for ativo in ativos_reordenados:\n",
        "  print(ativo)"
      ],
      "metadata": {
        "id": "qQrDBQZmKOAC"
      },
      "execution_count": null,
      "outputs": []
    },
    {
      "cell_type": "markdown",
      "source": [
        "##6. Validando a Força de Senhas no IAM"
      ],
      "metadata": {
        "id": "PaAi7A2LKOqi"
      }
    },
    {
      "cell_type": "markdown",
      "source": [
        "### Desafio"
      ],
      "metadata": {
        "id": "RE2jXoSqQlXJ"
      }
    },
    {
      "cell_type": "markdown",
      "source": [
        "Você está trabalhando para uma empresa que utiliza extensivamente os serviços da AWS, e após algumas análises a equipe de segurança identificou que algumas senhas dos usuários no IAM são fracas e podem representar um risco à segurança dos dados da empresa. Para resolver esse problema, foi solicitado que você desenvolva um programa capaz de analisar as senhas dos usuários e fornecer uma validação de força com base em critérios predefinidos.\n",
        "\n",
        "#### Requisitos de segurança para a senha:\n",
        "- A senha deve ter no mínimo 8 caracteres.\n",
        "- A senha deve conter pelo menos uma letra maiúscula (A-Z).\n",
        "- A senha deve conter pelo menos uma letra minúscula (a-z).\n",
        "- A senha deve conter pelo menos um número (0-9).\n",
        "- A senha deve conter pelo menos um caractere especial, como !, @, #, $, %, etc.\n",
        "Saiba mais sobre o Regex em: [Java Regular Expressions](https://docs.oracle.com/javase/7/docs/api/java/util/regex/Pattern.html)\n",
        "\n",
        "#### Entrada\n",
        "A entrada será uma única string representando a senha que precisa ser validada.\n",
        "\n",
        "#### Saída\n",
        "Seu programa deve retornar uma mensagem indicando se a senha fornecida pelo usuário atende aos requisitos de segurança ou não, juntamente com um feedback explicativo sobre os critérios considerados.\n",
        "\n",
        "#### Exemplos\n",
        "A tabela abaixo apresenta exemplos com alguns dados de entrada e suas respectivas saídas esperadas. Certifique-se de testar seu programa com esses exemplos e com outros casos possíveis.\n",
        "\n",
        "| Entrada         | Saída                                                                  |\n",
        "|-----------------|------------------------------------------------------------------------|\n",
        "| 0101            | Sua senha é muito curta. Recomenda-se no mínimo 8 caracteres.          |\n",
        "| 030609saturno* | Sua senha atende aos requisitos de segurança. Parabéns!                 |\n",
        "| 010203Jupiter   | Sua senha não atende aos requisitos de segurança."
      ],
      "metadata": {
        "id": "B8P7zoNeKu1-"
      }
    },
    {
      "cell_type": "markdown",
      "source": [
        "### Código"
      ],
      "metadata": {
        "id": "aortJl3ZQv7g"
      }
    },
    {
      "cell_type": "code",
      "source": [
        "import re\n",
        "\n",
        "def verificar_forca_senha(senha):\n",
        "    comprimento_minimo = 8\n",
        "    tem_letra_maiuscula = False\n",
        "    tem_letra_minuscula = False\n",
        "    tem_numero = False\n",
        "    tem_caractere_especial = False\n",
        "\n",
        "    # Verificando o comprimento da senha\n",
        "    if len(senha) < comprimento_minimo:\n",
        "        return f\"Sua senha é muito curta. Recomenda-se no mínimo {comprimento_minimo} caracteres.\"\n",
        "\n",
        "    # Verificando se a senha contém letras maiúsculas, minúsculas, números e caracteres especiais\n",
        "    if re.search(r\"(?=.*[A-Z])(?=.*[a-z])(?=.*\\d)(?=.*[!@#$%^&*])\", senha):\n",
        "        return \"Sua senha atende aos requisitos de segurança. Parabéns!\"\n",
        "    else:\n",
        "        return \"Sua senha não atende aos requisitos de segurança.\"\n",
        "\n",
        "# Obtendo a senha do usuário\n",
        "senha = input().strip()\n",
        "\n",
        "# Verificando a força da senha\n",
        "resultado = verificar_forca_senha(senha)\n",
        "\n",
        "# Imprimindo o resultado\n",
        "print(resultado)\n"
      ],
      "metadata": {
        "id": "dWUfGqF3LGVd"
      },
      "execution_count": null,
      "outputs": []
    },
    {
      "cell_type": "markdown",
      "source": [
        "## 7. O robô inteligente\n"
      ],
      "metadata": {
        "id": "X9S0sGGXMuI4"
      }
    },
    {
      "cell_type": "markdown",
      "source": [
        "### Desafio"
      ],
      "metadata": {
        "id": "3OhXsi3RQ6nN"
      }
    },
    {
      "cell_type": "markdown",
      "source": [
        "Você foi contratado pela empresa DIO Robots para programar um robô capaz de classificar números em uma das seguintes categorias: negativo, positivo ou zero. Para isso, você deve criar uma função de classificação que receba um número como parâmetro e retorne a mensagem \"negativo!\" ou \"positivo!\", de acordo com sua categoria.\n",
        "\n",
        "O programa deve ser executado continuamente, permitindo que o usuário insira vários números. Quando ele quiser encerrar a execução, deverá digitar um número igual a zero. A cada novo número inserido, o robô deve classificá-lo e exibir a mensagem correspondente. Ao final da execução, o programa deverá exibir a quantidade de números positivos, negativos e zeros que foram inseridos.\n",
        "\n",
        "#### Entrada:\n",
        "A entrada deve receber valores inteiros.\n",
        "\n",
        "- numero: valor inteiro que pode ser positivo, negativo ou zero. Lembrando que a entrada zero deve encerrar o programa.\n",
        "\n",
        "#### Saída:\n",
        "O código deverá retornar uma mensagem (string) informando se o número é positivo ou não. Ao receber o valor 0, ele deverá encerrar o e informar quantos números foram positivos e negativos.\n",
        "\n",
        "#### Exemplos\n",
        "A tabela abaixo apresenta exemplos com alguns dados de entrada e suas respectivas saídas esperadas. Certifique-se de testar seu programa com esses exemplos e com outros casos possíveis.\n",
        "\n",
        "| Entrada | Saída                             |\n",
        "|---------|-----------------------------------|\n",
        "| 1       | positivo!                         |\n",
        "| -1      | negativo!                         |\n",
        "| 2       | positivo!                         |\n",
        "| 0       | 2 números positivos, 1 número negativo |\n",
        "| 1       | positivo!                         |\n",
        "| -1      | negativo!                         |\n",
        "| 0       | 1 número positivo, 1 número negativo |\n",
        "| 1       | positivo!                         |\n",
        "| 1       | positivo!                         |\n",
        "| -1      | negativo!                         |\n",
        "| -1      | negativo!                         |\n",
        "| 0       | 2 números positivos, 2 números negativos |\n"
      ],
      "metadata": {
        "id": "_iol0qGNMvmp"
      }
    },
    {
      "cell_type": "markdown",
      "source": [
        "### Código"
      ],
      "metadata": {
        "id": "2XLd_rghQ9In"
      }
    },
    {
      "cell_type": "code",
      "source": [
        "def classificar_numero(numero):\n",
        "    if numero > 0:\n",
        "        return \"positivo!\"\n",
        "    elif numero < 0:\n",
        "        return \"negativo!\"\n",
        "    else:\n",
        "        return \"zero\"\n",
        "\n",
        "def main():\n",
        "    positivos = 0\n",
        "    negativos = 0\n",
        "\n",
        "    while True:\n",
        "        numero = int(input())\n",
        "\n",
        "        if numero == 0:\n",
        "            break  # Encerra o loop se o usuário digitar 0.\n",
        "\n",
        "        # Chama a função classificar_numero para imprimir a classificação do número\n",
        "        print(classificar_numero(numero))\n",
        "\n",
        "        # Atualiza a contagem de números positivos e negativos\n",
        "        if numero > 0:\n",
        "            positivos += 1\n",
        "        elif numero < 0:\n",
        "            negativos += 1\n",
        "\n",
        "    # Imprime a quantidade de números positivos e negativos inseridos\n",
        "    print(f\"{positivos} números positivos, {negativos} números negativos\")\n",
        "\n",
        "if __name__ == \"__main__\":\n",
        "  main()"
      ],
      "metadata": {
        "id": "1fXDHVrVNaji"
      },
      "execution_count": null,
      "outputs": []
    },
    {
      "cell_type": "markdown",
      "source": [
        "## 8. A jornada da Classificação Frutífera"
      ],
      "metadata": {
        "id": "PRU2UB1ZNb98"
      }
    },
    {
      "cell_type": "markdown",
      "source": [
        "### Desafio"
      ],
      "metadata": {
        "id": "cRvFvEJmRDjj"
      }
    },
    {
      "cell_type": "markdown",
      "source": [
        "Nesta missão, sua tarefa é mais desafiadora do que nunca! Em um pomar mágico, as frutas têm características únicas que as diferenciam. Seu objetivo é criar um modelo de machine learning capaz de classificar frutas com base em três características: peso, textura (suave ou áspera) e cor (vermelha, laranja ou amarela). Cada tipo de fruta tem limites específicos para essas características.\n",
        "\n",
        "**Maçã:**\n",
        "- Peso mínimo: 130 gramas\n",
        "- Textura: Ápera (rough)\n",
        "- Cor: Vermelha (red)\n",
        "\n",
        "**Laranja:**\n",
        "- Peso mínimo: 120 gramas\n",
        "- Textura: Suave (smooth)\n",
        "- Cor: Laranja (orange)\n",
        "\n",
        "**Morango:**\n",
        "- Peso mínimo: 150 gramas\n",
        "- Textura: Suave (smooth)\n",
        "- Cor: Vermelha (red)\n",
        "\n",
        "**Banana:**\n",
        "- Peso mínimo: 150 gramas\n",
        "- Textura: Áspera (rough)\n",
        "- Cor: Amarela (yellow)\n",
        "\n",
        "#### Entrada\n",
        "Seu código deve receber as seguintes entradas do usuário:\n",
        "- Peso da fruta (em gramas): um número real que representa o peso da fruta.\n",
        "- Textura da fruta (suave ou áspera): uma string indicando se a fruta é suave (\"smooth\") ou áspera (\"rough\").\n",
        "- Cor da fruta (vermelha, laranja ou amarela): uma string indicando a cor da fruta.\n",
        "\n",
        "#### Saída\n",
        "O código deve produzir uma saída indicando a classificação da fruta com base nas características fornecidas.\n",
        "\n",
        "#### Exemplos\n",
        "A tabela abaixo apresenta exemplos com alguns dados de entrada e suas respectivas saídas esperadas. Certifique-se de testar seu programa com esses exemplos e com outros casos possíveis.\n",
        "\n",
        "| Entrada | Saída                         |\n",
        "|---------|-------------------------------|\n",
        "| 150     | A fruta é um morango!        |\n",
        "| smooth  |                               |\n",
        "| red     |                               |\n",
        "| 140     | Não foi possível classificar a fruta. |\n",
        "| rough   |                               |\n",
        "| yellow  |                               |\n",
        "| 150     | A fruta é uma laranja!       |\n",
        "| smooth  |                               |\n",
        "| orange  |                               |\n"
      ],
      "metadata": {
        "id": "OdmCLaJkNtXt"
      }
    },
    {
      "cell_type": "markdown",
      "source": [
        "### Código"
      ],
      "metadata": {
        "id": "3j6OBPS1ROEB"
      }
    },
    {
      "cell_type": "code",
      "source": [
        "def prever_fruta(peso, textura, cor):\n",
        "  # Lógica de decisão baseada nas características fornecidas\n",
        "  if peso >= 150 and textura == \"smooth\" and cor == \"red\":\n",
        "    return \"A fruta é um morango!\"\n",
        "  elif peso >= 150 and textura == \"rough\" and cor == \"yellow\":\n",
        "    return \"A fruta é uma banana!\"\n",
        "  elif peso >= 120 and textura == \"smooth\" and cor == \"orange\":\n",
        "    return \"A fruta é uma laranja!\"\n",
        "  elif peso >= 130 and textura == \"rough\" and cor == \"red\":\n",
        "    return \"A fruta é uma maçã!\"\n",
        "  else:\n",
        "    return \"Não foi possível classificar a fruta.\"\n",
        "\n",
        "# Entrada do usuário\n",
        "peso_fruta = float(input())\n",
        "textura_fruta = input()\n",
        "cor_fruta = input()\n",
        "\n",
        "# Chamada da função de previsão\n",
        "resultado = prever_fruta(peso_fruta, textura_fruta, cor_fruta)\n",
        "\n",
        "# Saída da previsão\n",
        "print(resultado)"
      ],
      "metadata": {
        "id": "9KkybBsKN5l2"
      },
      "execution_count": null,
      "outputs": []
    },
    {
      "cell_type": "markdown",
      "source": [
        "## 9. A Questão Intrincada da Magia Preditiva"
      ],
      "metadata": {
        "id": "uIsKtzCmN7GF"
      }
    },
    {
      "cell_type": "markdown",
      "source": [
        "### Desafio"
      ],
      "metadata": {
        "id": "dOn8eaTrRVl-"
      }
    },
    {
      "cell_type": "markdown",
      "source": [
        "No reino mágico onde cada feiticeiro possui uma afinidade elemental única, seu desafio é criar um modelo de machine learning para prever essa afinidade. Os feiticeiros podem pertencer a um dos quatro elementos mágicos: Fogo, Água, Terra ou Ar. A predição será baseada em cinco atributos mágicos: intensidade do feitiço, presença de componente raro, fase lunar, idade do feiticeiro e afinidade com animais mágicos.\n",
        "\n",
        "\n",
        "**Aqui estão os critérios mágicos para cada elemento:**\n",
        "\n",
        " **Elemento Fogo:**\n",
        "- Intensidade do feitiço maior ou igual a 5.\n",
        "- Fase lunar durante o feitiço é crescente.\n",
        "- Idade do feiticeiro é superior a 100 anos.\n",
        "\n",
        "**Elemento Água:**\n",
        "- Intensidade do feitiço maior ou igual a 7.\n",
        "- Presença de componente raro.\n",
        "- Fase lunar durante o feitiço é cheia.\n",
        "- Idade do feiticeiro é igual ou inferior a 100 anos.\n",
        "\n",
        "**Elemento Terra:**\n",
        "- Intensidade do feitiço maior ou igual a 7.\n",
        "- Presença de componente raro.\n",
        "- Fase lunar durante o feitiço é cheia.\n",
        "- Idade do feiticeiro é igual ou inferior a 100 anos.\n",
        "- Afinidade com animais mágicos.\n",
        "\n",
        "**Elemento Ar:**\n",
        "- Caso não se encaixe nos critérios anteriores.\n",
        "\n",
        "#### Entrada\n",
        "Seu código deve receber as seguintes entradas do usuário:\n",
        "- Intensidade do feitiço (de 1 a 10): um número inteiro representando a força do feitiço.\n",
        "- Componente raro (sim ou não): uma string indicando se o feitiço contém um componente raro.\n",
        "- Fase lunar (cheia, crescente ou minguante): uma string indicando a fase lunar durante o lançamento do feitiço.\n",
        "- Idade do feiticeiro (em anos): um número inteiro representando a idade do feiticeiro.\n",
        "- Afinidade com animais mágicos (sim ou não): uma string indicando se o feiticeiro tem afinidade com animais mágicos.\n",
        "\n",
        "#### Saída\n",
        "O código deve produzir uma saída indicando a afinidade elemental prevista do feiticeiro com base nos atributos fornecidos.\n",
        "\n",
        "#### Exemplos\n",
        "A tabela abaixo apresenta exemplos com alguns dados de entrada e suas respectivas saídas esperadas. Certifique-se de testar seu programa com esses exemplos e com outros casos possíveis.\n",
        "\n",
        "| Entrada | Saída                                           |\n",
        "|---------|-------------------------------------------------|\n",
        "| 6       | A afinidade elemental do feiticeiro é com o elemento Fogo! |\n",
        "| sim     |                                                 |\n",
        "| crescente |                                             |\n",
        "| 110     |                                                 |\n",
        "| sim     |                                                 |\n",
        "| 8       | A afinidade elemental do feiticeiro é com o elemento Água! |\n",
        "| sim     |                                                 |\n",
        "| cheia   |                                                 |\n",
        "| 80      |                                                 |\n",
        "| não     |                                                 |\n",
        "| 9       | A afinidade elemental do feiticeiro é com o elemento Terra! |\n",
        "| sim     |                                                 |\n",
        "| cheia   |                                                 |\n",
        "| 80      |                                                 |\n",
        "| sim     |                                                 |\n"
      ],
      "metadata": {
        "id": "fF0nDlakORSi"
      }
    },
    {
      "cell_type": "markdown",
      "source": [
        "### Código"
      ],
      "metadata": {
        "id": "gH9fGBj-RfL3"
      }
    },
    {
      "cell_type": "code",
      "source": [
        "# Função para prever a afinidade elemental do feiticeiro\n",
        "def prever_afinidade_elemental(intensidade, componente_raro, fase_lunar, idade_feiticeiro, afinidade_animais):\n",
        "    # Convertendo a resposta do componente raro e afinidade com animais para booleanos\n",
        "    componente_raro = componente_raro.lower() == \"sim\"\n",
        "    afinidade_animais = afinidade_animais.lower() == \"sim\"\n",
        "    # Desenvolvimento da lógica de decisão para prever a afinidade elemental\n",
        "    if intensidade >= 5 and fase_lunar == \"crescente\" and idade_feiticeiro > 100:\n",
        "        return \"A afinidade elemental do feiticeiro é com o elemento Fogo!\"\n",
        "    elif intensidade >= 7 and componente_raro and fase_lunar == \"cheia\" and idade_feiticeiro <= 100 and not afinidade_animais:\n",
        "      return \"A afinidade elemental do feiticeiro é com o elemento Água!\"\n",
        "    elif intensidade >= 7 and componente_raro and fase_lunar == \"cheia\" and idade_feiticeiro <= 100 and afinidade_animais:\n",
        "      return \"A afinidade elemental do feiticeiro é com o elemento Terra!\"\n",
        "    else:\n",
        "      return \"A afinidade elemental do feiticeiro é com o elemento Ar!\"\n",
        "# Entrada do usuário\n",
        "intensidade_feitico = int(input())\n",
        "componente_raro_feitico = input()\n",
        "fase_lunar_feitico = input()\n",
        "idade_feiticeiro = int(input ())\n",
        "afinidade_animais_feiticeiro = input()\n",
        "\n",
        "# Previsão\n",
        "resultado = prever_afinidade_elemental(intensidade_feitico, componente_raro_feitico, fase_lunar_feitico, idade_feiticeiro, afinidade_animais_feiticeiro)\n",
        "print(resultado)"
      ],
      "metadata": {
        "id": "NApXO2HlPWPr"
      },
      "execution_count": null,
      "outputs": []
    }
  ]
}